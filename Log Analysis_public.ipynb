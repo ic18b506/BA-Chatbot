{
 "cells": [
  {
   "cell_type": "code",
   "execution_count": 1,
   "metadata": {},
   "outputs": [],
   "source": [
    "# @hidden_cell\n",
    "# The project token is an authorization token that is used to access project ressources like data sources, connections, and used by platform APIs.\n",
    "from project_lib import Project\n",
    "project = Project(project_id='my_project', project_access_token='my_token')\n",
    "pc = project.project_context"
   ]
  },
  {
   "cell_type": "markdown",
   "metadata": {},
   "source": [
    "# Analysis of Conversations"
   ]
  },
  {
   "cell_type": "markdown",
   "metadata": {},
   "source": [
    "## Prerequisites \n",
    "Run the next cell as-is to load the prerequisites from WA-Testing-Tool"
   ]
  },
  {
   "cell_type": "code",
   "execution_count": 2,
   "metadata": {},
   "outputs": [
    {
     "name": "stdout",
     "output_type": "stream",
     "text": [
      "  % Total    % Received % Xferd  Average Speed   Time    Time     Time  Current\n",
      "                                 Dload  Upload   Total   Spent    Left  Speed\n",
      "100 11230  100 11230    0     0  66058      0 --:--:-- --:--:-- --:--:-- 66058\n",
      "  % Total    % Received % Xferd  Average Speed   Time    Time     Time  Current\n",
      "                                 Dload  Upload   Total   Spent    Left  Speed\n",
      "100  6318  100  6318    0     0  33786      0 --:--:-- --:--:-- --:--:-- 33606\n",
      "  % Total    % Received % Xferd  Average Speed   Time    Time     Time  Current\n",
      "                                 Dload  Upload   Total   Spent    Left  Speed\n",
      "100  3596  100  3596    0     0  19543      0 --:--:-- --:--:-- --:--:-- 19437\n",
      "/opt/conda/envs/Python-3.7-main/lib/python3.7/site-packages/secretstorage/dhcrypto.py:16: CryptographyDeprecationWarning: int_from_bytes is deprecated, use int.from_bytes instead\n",
      "  from cryptography.utils import int_from_bytes\n",
      "/opt/conda/envs/Python-3.7-main/lib/python3.7/site-packages/secretstorage/util.py:25: CryptographyDeprecationWarning: int_from_bytes is deprecated, use int.from_bytes instead\n",
      "  from cryptography.utils import int_from_bytes\n",
      "Collecting squarify\n",
      "  Downloading squarify-0.4.3-py3-none-any.whl (4.3 kB)\n",
      "Installing collected packages: squarify\n",
      "Successfully installed squarify-0.4.3\n",
      "/opt/conda/envs/Python-3.7-main/lib/python3.7/site-packages/secretstorage/dhcrypto.py:16: CryptographyDeprecationWarning: int_from_bytes is deprecated, use int.from_bytes instead\n",
      "  from cryptography.utils import int_from_bytes\n",
      "/opt/conda/envs/Python-3.7-main/lib/python3.7/site-packages/secretstorage/util.py:25: CryptographyDeprecationWarning: int_from_bytes is deprecated, use int.from_bytes instead\n",
      "  from cryptography.utils import int_from_bytes\n",
      "Collecting ibm-watson\n",
      "  Downloading ibm-watson-5.1.0.tar.gz (382 kB)\n",
      "\u001b[K     |████████████████████████████████| 382 kB 18.3 MB/s eta 0:00:01\n",
      "\u001b[?25hRequirement already satisfied: requests<3.0,>=2.0 in /opt/conda/envs/Python-3.7-main/lib/python3.7/site-packages (from ibm-watson) (2.24.0)\n",
      "Requirement already satisfied: python_dateutil>=2.5.3 in /opt/conda/envs/Python-3.7-main/lib/python3.7/site-packages (from ibm-watson) (2.8.1)\n",
      "Collecting websocket-client==0.48.0\n",
      "  Downloading websocket_client-0.48.0-py2.py3-none-any.whl (198 kB)\n",
      "\u001b[K     |████████████████████████████████| 198 kB 54.6 MB/s eta 0:00:01\n",
      "\u001b[?25hCollecting ibm_cloud_sdk_core>=3.3.6\n",
      "  Downloading ibm-cloud-sdk-core-3.9.0.tar.gz (38 kB)\n",
      "Requirement already satisfied: certifi>=2017.4.17 in /opt/conda/envs/Python-3.7-main/lib/python3.7/site-packages (from requests<3.0,>=2.0->ibm-watson) (2020.12.5)\n",
      "Requirement already satisfied: urllib3!=1.25.0,!=1.25.1,<1.26,>=1.21.1 in /opt/conda/envs/Python-3.7-main/lib/python3.7/site-packages (from requests<3.0,>=2.0->ibm-watson) (1.25.9)\n",
      "Requirement already satisfied: chardet<4,>=3.0.2 in /opt/conda/envs/Python-3.7-main/lib/python3.7/site-packages (from requests<3.0,>=2.0->ibm-watson) (3.0.4)\n",
      "Requirement already satisfied: idna<3,>=2.5 in /opt/conda/envs/Python-3.7-main/lib/python3.7/site-packages (from requests<3.0,>=2.0->ibm-watson) (2.9)\n",
      "Requirement already satisfied: six>=1.5 in /opt/conda/envs/Python-3.7-main/lib/python3.7/site-packages (from python_dateutil>=2.5.3->ibm-watson) (1.15.0)\n",
      "Collecting PyJWT<3.0.0,>=2.0.1\n",
      "  Downloading PyJWT-2.1.0-py3-none-any.whl (16 kB)\n",
      "Building wheels for collected packages: ibm-watson, ibm-cloud-sdk-core\n",
      "  Building wheel for ibm-watson (setup.py) ... \u001b[?25ldone\n",
      "\u001b[?25h  Created wheel for ibm-watson: filename=ibm_watson-5.1.0-py3-none-any.whl size=375438 sha256=2ad88875edba4173a03b36a4f8404f40c8d28849c0e65aefb39a6b89900fe47b\n",
      "  Stored in directory: /tmp/wsuser/.cache/pip/wheels/c1/40/da/ba44de639af32759a5755cb79afedf309104b13fea09bbb5fc\n",
      "  Building wheel for ibm-cloud-sdk-core (setup.py) ... \u001b[?25ldone\n",
      "\u001b[?25h  Created wheel for ibm-cloud-sdk-core: filename=ibm_cloud_sdk_core-3.9.0-py3-none-any.whl size=59612 sha256=80b916bf919af4d631f7b0185426c3a3faeec7886363334e0ae88142a60df98a\n",
      "  Stored in directory: /tmp/wsuser/.cache/pip/wheels/64/0f/15/c215a4be28b2cc216aa300b176343fcf622bbc2672a1c2ef30\n",
      "Successfully built ibm-watson ibm-cloud-sdk-core\n",
      "Installing collected packages: websocket-client, PyJWT, ibm-cloud-sdk-core, ibm-watson\n",
      "  Attempting uninstall: PyJWT\n",
      "    Found existing installation: PyJWT 1.7.1\n",
      "    Uninstalling PyJWT-1.7.1:\n",
      "      Successfully uninstalled PyJWT-1.7.1\n",
      "  Attempting uninstall: ibm-cloud-sdk-core\n",
      "    Found existing installation: ibm-cloud-sdk-core 3.2.0\n",
      "    Uninstalling ibm-cloud-sdk-core-3.2.0:\n",
      "      Successfully uninstalled ibm-cloud-sdk-core-3.2.0\n",
      "Successfully installed PyJWT-2.1.0 ibm-cloud-sdk-core-3.9.0 ibm-watson-5.1.0 websocket-client-0.48.0\n"
     ]
    }
   ],
   "source": [
    "!curl -O https://raw.githubusercontent.com/cognitive-catalyst/WA-Testing-Tool/master/log_analytics/extractConversations.py\n",
    "!curl -O https://raw.githubusercontent.com/cognitive-catalyst/WA-Testing-Tool/master/log_analytics/getAllLogs.py\n",
    "!curl -O https://raw.githubusercontent.com/cognitive-catalyst/WA-Testing-Tool/master/log_analytics/intent_heatmap.py\n",
    "\n",
    "%load_ext autoreload\n",
    "%autoreload 2\n",
    "\n",
    "!pip install squarify\n",
    "!pip install ibm-watson\n",
    "\n",
    "import pandas as pd\n",
    "import getAllLogs\n",
    "import extractConversations\n",
    "import intent_heatmap"
   ]
  },
  {
   "cell_type": "markdown",
   "metadata": {},
   "source": [
    "## Configuration and log collection"
   ]
  },
  {
   "cell_type": "code",
   "execution_count": 3,
   "metadata": {},
   "outputs": [
    {
     "name": "stdout",
     "output_type": "stream",
     "text": [
      "Fetched 1 log pages\n"
     ]
    }
   ],
   "source": [
    "# API, URL, and workspace ID are extractable from \"View API Details page\"\n",
    "iam_apikey=\"my_iam\"\n",
    "url=\"my_url\"\n",
    "workspace_id=\"my_workspace\"\n",
    "\n",
    "#Filter API is described at: https://cloud.ibm.com/docs/assistant?topic=assistant-filter-reference#filter-reference\n",
    "log_filter=\"response_timestamp>=2021-03-01,response_timestamp<2021-05-04\"\n",
    "\n",
    "#Change the number of logs retrieved, default settings will return 10,000 logs (20 pages of 500)\n",
    "page_size_limit=500\n",
    "page_num_limit=20\n",
    "\n",
    "#WA API version\n",
    "version=\"2018-09-20\" \n",
    "\n",
    "rawLogsJson = getAllLogs.getLogs(iam_apikey, url, workspace_id, log_filter, page_size_limit, page_num_limit, version)"
   ]
  },
  {
   "cell_type": "code",
   "execution_count": 5,
   "metadata": {},
   "outputs": [
    {
     "name": "stdout",
     "output_type": "stream",
     "text": [
      "Total log events: 241\n"
     ]
    },
    {
     "name": "stderr",
     "output_type": "stream",
     "text": [
      "/opt/conda/envs/Python-3.7-main/lib/python3.7/site-packages/pandas/core/ops/array_ops.py:253: FutureWarning: elementwise comparison failed; returning scalar instead, but in the future will perform elementwise comparison\n",
      "  res_values = method(rvalues)\n"
     ]
    },
    {
     "data": {
      "text/html": [
       "<div>\n",
       "<style scoped>\n",
       "    .dataframe tbody tr th:only-of-type {\n",
       "        vertical-align: middle;\n",
       "    }\n",
       "\n",
       "    .dataframe tbody tr th {\n",
       "        vertical-align: top;\n",
       "    }\n",
       "\n",
       "    .dataframe thead th {\n",
       "        text-align: right;\n",
       "    }\n",
       "</style>\n",
       "<table border=\"1\" class=\"dataframe\">\n",
       "  <thead>\n",
       "    <tr style=\"text-align: right;\">\n",
       "      <th></th>\n",
       "      <th>conversation_id</th>\n",
       "      <th>dialog_turn_counter</th>\n",
       "      <th>request_timestamp</th>\n",
       "      <th>response_timestamp</th>\n",
       "      <th>input.text</th>\n",
       "      <th>output.text</th>\n",
       "      <th>nodes_visited</th>\n",
       "      <th>branch_exited_reason</th>\n",
       "      <th>intent</th>\n",
       "      <th>intent_confidence</th>\n",
       "      <th>entities</th>\n",
       "      <th>prev_nodes_visited</th>\n",
       "      <th>conversation_start</th>\n",
       "      <th>message_start</th>\n",
       "      <th>message_end</th>\n",
       "      <th>dialog_turn_number</th>\n",
       "      <th>conversation_length</th>\n",
       "    </tr>\n",
       "  </thead>\n",
       "  <tbody>\n",
       "    <tr>\n",
       "      <th>0</th>\n",
       "      <td>06b95513-a30c-47d6-9671-3915da729cd5</td>\n",
       "      <td>1.0</td>\n",
       "      <td>2021-05-02 19:37:16.313000+00:00</td>\n",
       "      <td>2021-05-02 19:37:16.342000+00:00</td>\n",
       "      <td></td>\n",
       "      <td>Hallo. Ich bin Lea und freue mich, von Ihnen z...</td>\n",
       "      <td>(Willkommen,)</td>\n",
       "      <td>completed</td>\n",
       "      <td></td>\n",
       "      <td>0.000000</td>\n",
       "      <td></td>\n",
       "      <td></td>\n",
       "      <td>2021-05-02 19:37:16.313000+00:00</td>\n",
       "      <td>00:00:00</td>\n",
       "      <td>00:00:00</td>\n",
       "      <td>1</td>\n",
       "      <td>10</td>\n",
       "    </tr>\n",
       "    <tr>\n",
       "      <th>1</th>\n",
       "      <td>06b95513-a30c-47d6-9671-3915da729cd5</td>\n",
       "      <td>2.0</td>\n",
       "      <td>2021-05-02 19:37:28.957000+00:00</td>\n",
       "      <td>2021-05-02 19:37:28.990000+00:00</td>\n",
       "      <td>test1234567890</td>\n",
       "      <td></td>\n",
       "      <td>()</td>\n",
       "      <td>fallback</td>\n",
       "      <td></td>\n",
       "      <td>0.000000</td>\n",
       "      <td>({'entity': 'Hausnummer', 'location': [4, 7], ...</td>\n",
       "      <td>(Willkommen,)</td>\n",
       "      <td>2021-05-02 19:37:16.313000+00:00</td>\n",
       "      <td>00:00:00.029000</td>\n",
       "      <td>00:00:12.644000</td>\n",
       "      <td>2</td>\n",
       "      <td>10</td>\n",
       "    </tr>\n",
       "    <tr>\n",
       "      <th>2</th>\n",
       "      <td>06b95513-a30c-47d6-9671-3915da729cd5</td>\n",
       "      <td>3.0</td>\n",
       "      <td>2021-05-02 19:37:40.185000+00:00</td>\n",
       "      <td>2021-05-02 19:37:40.250000+00:00</td>\n",
       "      <td>hallo?</td>\n",
       "      <td>Wie kann ich Ihnen helfen?</td>\n",
       "      <td>(node_6_1616420354968,)</td>\n",
       "      <td>completed</td>\n",
       "      <td>General_Greetings</td>\n",
       "      <td>0.847273</td>\n",
       "      <td></td>\n",
       "      <td>()</td>\n",
       "      <td>2021-05-02 19:37:16.313000+00:00</td>\n",
       "      <td>00:00:12.677000</td>\n",
       "      <td>00:00:23.872000</td>\n",
       "      <td>3</td>\n",
       "      <td>10</td>\n",
       "    </tr>\n",
       "    <tr>\n",
       "      <th>3</th>\n",
       "      <td>06b95513-a30c-47d6-9671-3915da729cd5</td>\n",
       "      <td>4.0</td>\n",
       "      <td>2021-05-02 19:37:56.362000+00:00</td>\n",
       "      <td>2021-05-02 19:37:56.424000+00:00</td>\n",
       "      <td>ich möchte meine adresse ändern lassen in ihre...</td>\n",
       "      <td>Dabei kann ich Ihnen gerne helfen! Möchten Sie...</td>\n",
       "      <td>(node_4_1616254197330,)</td>\n",
       "      <td></td>\n",
       "      <td>Customer_Care_User_newAddress</td>\n",
       "      <td>0.965179</td>\n",
       "      <td>({'entity': 'Strasse', 'location': [32, 38], '...</td>\n",
       "      <td>(node_6_1616420354968,)</td>\n",
       "      <td>2021-05-02 19:37:16.313000+00:00</td>\n",
       "      <td>00:00:23.937000</td>\n",
       "      <td>00:00:40.049000</td>\n",
       "      <td>4</td>\n",
       "      <td>10</td>\n",
       "    </tr>\n",
       "    <tr>\n",
       "      <th>4</th>\n",
       "      <td>06b95513-a30c-47d6-9671-3915da729cd5</td>\n",
       "      <td>5.0</td>\n",
       "      <td>2021-05-02 19:38:00.968000+00:00</td>\n",
       "      <td>2021-05-02 19:38:00.997000+00:00</td>\n",
       "      <td>ja</td>\n",
       "      <td>Geben Sie bitte Ihre Kundennummer ein!</td>\n",
       "      <td>(node_10_1617382729227,)</td>\n",
       "      <td></td>\n",
       "      <td>General_Positive_Feedback</td>\n",
       "      <td>0.907424</td>\n",
       "      <td>({'entity': 'yes', 'location': [0, 2], 'value'...</td>\n",
       "      <td>(node_4_1616254197330,)</td>\n",
       "      <td>2021-05-02 19:37:16.313000+00:00</td>\n",
       "      <td>00:00:40.111000</td>\n",
       "      <td>00:00:44.655000</td>\n",
       "      <td>5</td>\n",
       "      <td>10</td>\n",
       "    </tr>\n",
       "  </tbody>\n",
       "</table>\n",
       "</div>"
      ],
      "text/plain": [
       "                        conversation_id  dialog_turn_counter  \\\n",
       "0  06b95513-a30c-47d6-9671-3915da729cd5                  1.0   \n",
       "1  06b95513-a30c-47d6-9671-3915da729cd5                  2.0   \n",
       "2  06b95513-a30c-47d6-9671-3915da729cd5                  3.0   \n",
       "3  06b95513-a30c-47d6-9671-3915da729cd5                  4.0   \n",
       "4  06b95513-a30c-47d6-9671-3915da729cd5                  5.0   \n",
       "\n",
       "                 request_timestamp               response_timestamp  \\\n",
       "0 2021-05-02 19:37:16.313000+00:00 2021-05-02 19:37:16.342000+00:00   \n",
       "1 2021-05-02 19:37:28.957000+00:00 2021-05-02 19:37:28.990000+00:00   \n",
       "2 2021-05-02 19:37:40.185000+00:00 2021-05-02 19:37:40.250000+00:00   \n",
       "3 2021-05-02 19:37:56.362000+00:00 2021-05-02 19:37:56.424000+00:00   \n",
       "4 2021-05-02 19:38:00.968000+00:00 2021-05-02 19:38:00.997000+00:00   \n",
       "\n",
       "                                          input.text  \\\n",
       "0                                                      \n",
       "1                                     test1234567890   \n",
       "2                                             hallo?   \n",
       "3  ich möchte meine adresse ändern lassen in ihre...   \n",
       "4                                                 ja   \n",
       "\n",
       "                                         output.text  \\\n",
       "0  Hallo. Ich bin Lea und freue mich, von Ihnen z...   \n",
       "1                                                      \n",
       "2                         Wie kann ich Ihnen helfen?   \n",
       "3  Dabei kann ich Ihnen gerne helfen! Möchten Sie...   \n",
       "4             Geben Sie bitte Ihre Kundennummer ein!   \n",
       "\n",
       "              nodes_visited branch_exited_reason  \\\n",
       "0             (Willkommen,)            completed   \n",
       "1                        ()             fallback   \n",
       "2   (node_6_1616420354968,)            completed   \n",
       "3   (node_4_1616254197330,)                        \n",
       "4  (node_10_1617382729227,)                        \n",
       "\n",
       "                          intent  intent_confidence  \\\n",
       "0                                          0.000000   \n",
       "1                                          0.000000   \n",
       "2              General_Greetings           0.847273   \n",
       "3  Customer_Care_User_newAddress           0.965179   \n",
       "4      General_Positive_Feedback           0.907424   \n",
       "\n",
       "                                            entities       prev_nodes_visited  \\\n",
       "0                                                                               \n",
       "1  ({'entity': 'Hausnummer', 'location': [4, 7], ...            (Willkommen,)   \n",
       "2                                                                          ()   \n",
       "3  ({'entity': 'Strasse', 'location': [32, 38], '...  (node_6_1616420354968,)   \n",
       "4  ({'entity': 'yes', 'location': [0, 2], 'value'...  (node_4_1616254197330,)   \n",
       "\n",
       "                conversation_start   message_start     message_end  \\\n",
       "0 2021-05-02 19:37:16.313000+00:00        00:00:00        00:00:00   \n",
       "1 2021-05-02 19:37:16.313000+00:00 00:00:00.029000 00:00:12.644000   \n",
       "2 2021-05-02 19:37:16.313000+00:00 00:00:12.677000 00:00:23.872000   \n",
       "3 2021-05-02 19:37:16.313000+00:00 00:00:23.937000 00:00:40.049000   \n",
       "4 2021-05-02 19:37:16.313000+00:00 00:00:40.111000 00:00:44.655000   \n",
       "\n",
       "   dialog_turn_number  conversation_length  \n",
       "0                   1                   10  \n",
       "1                   2                   10  \n",
       "2                   3                   10  \n",
       "3                   4                   10  \n",
       "4                   5                   10  "
      ]
     },
     "execution_count": 5,
     "metadata": {},
     "output_type": "execute_result"
    }
   ],
   "source": [
    "# Define the conversation corrrelation field name for your Watson Assistant records.\n",
    "# Provide the field name as it appears in the log payload (default is 'response.context.conversation_id')\n",
    "primaryLogKey = \"response.context.conversation_id\"\n",
    "\n",
    "# Name of the correlating key as it appears in the data frame columns (remove 'response.context.')\n",
    "conversationKey='conversation_id'\n",
    "\n",
    "# Optionally provide a comma-separated list of custom fields you want to extract, in addition to the default fields\n",
    "customFieldNames = None\n",
    "\n",
    "#Extract conversations data and store it at a pandas dataframe\n",
    "allLogsDF = extractConversations.extractConversationData(rawLogsJson, primaryLogKey, customFieldNames)\n",
    "conversationsGroup = allLogsDF.groupby(conversationKey,as_index=False)\n",
    "\n",
    "print(\"Total log events:\",len(allLogsDF))\n",
    "allLogsDF.head()"
   ]
  },
  {
   "cell_type": "code",
   "execution_count": null,
   "metadata": {},
   "outputs": [],
   "source": [
    "#save the log-file as a data asset in studio project\n",
    "project.save_data(file_name = \"logs.csv\",data = allLogsDF.to_csv(index=False))"
   ]
  },
  {
   "cell_type": "code",
   "execution_count": 6,
   "metadata": {},
   "outputs": [
    {
     "data": {
      "text/html": [
       "<div>\n",
       "<style scoped>\n",
       "    .dataframe tbody tr th:only-of-type {\n",
       "        vertical-align: middle;\n",
       "    }\n",
       "\n",
       "    .dataframe tbody tr th {\n",
       "        vertical-align: top;\n",
       "    }\n",
       "\n",
       "    .dataframe thead th {\n",
       "        text-align: right;\n",
       "    }\n",
       "</style>\n",
       "<table border=\"1\" class=\"dataframe\">\n",
       "  <thead>\n",
       "    <tr style=\"text-align: right;\">\n",
       "      <th></th>\n",
       "      <th>input.text</th>\n",
       "      <th>intent</th>\n",
       "      <th>intent_confidence</th>\n",
       "    </tr>\n",
       "  </thead>\n",
       "  <tbody>\n",
       "    <tr>\n",
       "      <th>0</th>\n",
       "      <td></td>\n",
       "      <td></td>\n",
       "      <td>0.000000</td>\n",
       "    </tr>\n",
       "    <tr>\n",
       "      <th>1</th>\n",
       "      <td>test1234567890</td>\n",
       "      <td></td>\n",
       "      <td>0.000000</td>\n",
       "    </tr>\n",
       "    <tr>\n",
       "      <th>2</th>\n",
       "      <td>hallo?</td>\n",
       "      <td>General_Greetings</td>\n",
       "      <td>0.847273</td>\n",
       "    </tr>\n",
       "    <tr>\n",
       "      <th>3</th>\n",
       "      <td>ich möchte meine adresse ändern lassen in ihre...</td>\n",
       "      <td>Customer_Care_User_newAddress</td>\n",
       "      <td>0.965179</td>\n",
       "    </tr>\n",
       "    <tr>\n",
       "      <th>4</th>\n",
       "      <td>ja</td>\n",
       "      <td>General_Positive_Feedback</td>\n",
       "      <td>0.907424</td>\n",
       "    </tr>\n",
       "  </tbody>\n",
       "</table>\n",
       "</div>"
      ],
      "text/plain": [
       "                                          input.text  \\\n",
       "0                                                      \n",
       "1                                     test1234567890   \n",
       "2                                             hallo?   \n",
       "3  ich möchte meine adresse ändern lassen in ihre...   \n",
       "4                                                 ja   \n",
       "\n",
       "                          intent  intent_confidence  \n",
       "0                                          0.000000  \n",
       "1                                          0.000000  \n",
       "2              General_Greetings           0.847273  \n",
       "3  Customer_Care_User_newAddress           0.965179  \n",
       "4      General_Positive_Feedback           0.907424  "
      ]
     },
     "execution_count": 6,
     "metadata": {},
     "output_type": "execute_result"
    }
   ],
   "source": [
    "df_intents = allLogsDF[[\"input.text\",\"intent\",\"intent_confidence\"]]\n",
    "df_intents.head()"
   ]
  },
  {
   "cell_type": "code",
   "execution_count": 11,
   "metadata": {},
   "outputs": [
    {
     "data": {
      "text/html": [
       "<div>\n",
       "<style scoped>\n",
       "    .dataframe tbody tr th:only-of-type {\n",
       "        vertical-align: middle;\n",
       "    }\n",
       "\n",
       "    .dataframe tbody tr th {\n",
       "        vertical-align: top;\n",
       "    }\n",
       "\n",
       "    .dataframe thead th {\n",
       "        text-align: right;\n",
       "    }\n",
       "</style>\n",
       "<table border=\"1\" class=\"dataframe\">\n",
       "  <thead>\n",
       "    <tr style=\"text-align: right;\">\n",
       "      <th></th>\n",
       "      <th>input.text</th>\n",
       "      <th>entities</th>\n",
       "    </tr>\n",
       "  </thead>\n",
       "  <tbody>\n",
       "    <tr>\n",
       "      <th>0</th>\n",
       "      <td></td>\n",
       "      <td></td>\n",
       "    </tr>\n",
       "    <tr>\n",
       "      <th>1</th>\n",
       "      <td>test1234567890</td>\n",
       "      <td>({'entity': 'Hausnummer', 'location': [4, 7], ...</td>\n",
       "    </tr>\n",
       "    <tr>\n",
       "      <th>2</th>\n",
       "      <td>hallo?</td>\n",
       "      <td></td>\n",
       "    </tr>\n",
       "    <tr>\n",
       "      <th>3</th>\n",
       "      <td>ich möchte meine adresse ändern lassen in ihre...</td>\n",
       "      <td>({'entity': 'Strasse', 'location': [32, 38], '...</td>\n",
       "    </tr>\n",
       "    <tr>\n",
       "      <th>4</th>\n",
       "      <td>ja</td>\n",
       "      <td>({'entity': 'yes', 'location': [0, 2], 'value'...</td>\n",
       "    </tr>\n",
       "  </tbody>\n",
       "</table>\n",
       "</div>"
      ],
      "text/plain": [
       "                                          input.text  \\\n",
       "0                                                      \n",
       "1                                     test1234567890   \n",
       "2                                             hallo?   \n",
       "3  ich möchte meine adresse ändern lassen in ihre...   \n",
       "4                                                 ja   \n",
       "\n",
       "                                            entities  \n",
       "0                                                     \n",
       "1  ({'entity': 'Hausnummer', 'location': [4, 7], ...  \n",
       "2                                                     \n",
       "3  ({'entity': 'Strasse', 'location': [32, 38], '...  \n",
       "4  ({'entity': 'yes', 'location': [0, 2], 'value'...  "
      ]
     },
     "execution_count": 11,
     "metadata": {},
     "output_type": "execute_result"
    }
   ],
   "source": [
    "df_entities = allLogsDF[[\"input.text\", \"entities\"]]\n",
    "df_entities.head()"
   ]
  },
  {
   "cell_type": "code",
   "execution_count": 33,
   "metadata": {},
   "outputs": [],
   "source": [
    "df_intents = df_intents.assign(classification=\"\")"
   ]
  },
  {
   "cell_type": "code",
   "execution_count": 15,
   "metadata": {},
   "outputs": [],
   "source": [
    "df_entities = df_entities.assign(classification=\"NA\")"
   ]
  },
  {
   "cell_type": "code",
   "execution_count": null,
   "metadata": {},
   "outputs": [],
   "source": [
    "#save the intent-file as a data asset in studio project\n",
    "project.save_data(file_name = \"intents.csv\",data = df_intents.to_csv(index=False))"
   ]
  },
  {
   "cell_type": "code",
   "execution_count": null,
   "metadata": {},
   "outputs": [],
   "source": [
    "#save the entity-file as a data asset in studio project\n",
    "project.save_data(file_name = \"entites.csv\",data = df_entities.to_csv(index=False))"
   ]
  },
  {
   "cell_type": "markdown",
   "metadata": {},
   "source": [
    "# Count unique conversations"
   ]
  },
  {
   "cell_type": "code",
   "execution_count": 7,
   "metadata": {},
   "outputs": [
    {
     "name": "stdout",
     "output_type": "stream",
     "text": [
      "Total log events: 241\n",
      "Total conversations: 35\n"
     ]
    }
   ],
   "source": [
    "print(\"Total log events:\",len(allLogsDF))\n",
    "print(\"Total conversations:\",len(allLogsDF[conversationKey].unique()))"
   ]
  },
  {
   "cell_type": "markdown",
   "metadata": {},
   "source": [
    "## Number of times a given node is visited"
   ]
  },
  {
   "cell_type": "code",
   "execution_count": 9,
   "metadata": {},
   "outputs": [
    {
     "name": "stdout",
     "output_type": "stream",
     "text": [
      "Total visits to target node: 12\n"
     ]
    }
   ],
   "source": [
    "#count visits of \"bestätigungsknoten\"\n",
    "node_to_search=\"node_9_1618232019798\"\n",
    "node_visits_as_frame = allLogsDF[[node_to_search in x for x in allLogsDF['nodes_visited']]]\n",
    "\n",
    "print(\"Total visits to target node:\",len(node_visits_as_frame))"
   ]
  },
  {
   "cell_type": "markdown",
   "metadata": {},
   "source": [
    "## Number of unique conversations visiting a node"
   ]
  },
  {
   "cell_type": "code",
   "execution_count": 12,
   "metadata": {},
   "outputs": [
    {
     "name": "stdout",
     "output_type": "stream",
     "text": [
      "Unique visitors to target node: 11\n"
     ]
    }
   ],
   "source": [
    "#count the unique conversations visiting \"bestätigungsknoten\"\n",
    "print(\"Unique visitors to target node:\",len(node_visits_as_frame[conversationKey].unique()))"
   ]
  },
  {
   "cell_type": "markdown",
   "metadata": {},
   "source": [
    "## Gathering initial user responses via hardcoded dialog turn number"
   ]
  },
  {
   "cell_type": "code",
   "execution_count": 13,
   "metadata": {},
   "outputs": [
    {
     "data": {
      "text/html": [
       "<div>\n",
       "<style scoped>\n",
       "    .dataframe tbody tr th:only-of-type {\n",
       "        vertical-align: middle;\n",
       "    }\n",
       "\n",
       "    .dataframe tbody tr th {\n",
       "        vertical-align: top;\n",
       "    }\n",
       "\n",
       "    .dataframe thead th {\n",
       "        text-align: right;\n",
       "    }\n",
       "</style>\n",
       "<table border=\"1\" class=\"dataframe\">\n",
       "  <thead>\n",
       "    <tr style=\"text-align: right;\">\n",
       "      <th></th>\n",
       "      <th>input.text</th>\n",
       "      <th>intent</th>\n",
       "      <th>intent_confidence</th>\n",
       "    </tr>\n",
       "  </thead>\n",
       "  <tbody>\n",
       "    <tr>\n",
       "      <th>1</th>\n",
       "      <td>test1234567890</td>\n",
       "      <td></td>\n",
       "      <td>0.000000</td>\n",
       "    </tr>\n",
       "    <tr>\n",
       "      <th>11</th>\n",
       "      <td>servus</td>\n",
       "      <td>General_Ending</td>\n",
       "      <td>1.000000</td>\n",
       "    </tr>\n",
       "    <tr>\n",
       "      <th>17</th>\n",
       "      <td>Servus!</td>\n",
       "      <td>General_Ending</td>\n",
       "      <td>1.000000</td>\n",
       "    </tr>\n",
       "    <tr>\n",
       "      <th>34</th>\n",
       "      <td>hi</td>\n",
       "      <td>General_Greetings</td>\n",
       "      <td>1.000000</td>\n",
       "    </tr>\n",
       "    <tr>\n",
       "      <th>46</th>\n",
       "      <td>hallo.</td>\n",
       "      <td>General_Greetings</td>\n",
       "      <td>0.847273</td>\n",
       "    </tr>\n",
       "  </tbody>\n",
       "</table>\n",
       "</div>"
      ],
      "text/plain": [
       "        input.text             intent  intent_confidence\n",
       "1   test1234567890                              0.000000\n",
       "11          servus     General_Ending           1.000000\n",
       "17         Servus!     General_Ending           1.000000\n",
       "34              hi  General_Greetings           1.000000\n",
       "46          hallo.  General_Greetings           0.847273"
      ]
     },
     "execution_count": 13,
     "metadata": {},
     "output_type": "execute_result"
    }
   ],
   "source": [
    "#use the `dialog_turn_counter` field to extract utterances on a given turn. \n",
    "#user speaks first, search on USER_FIRST_TURN_COUNTER=1\n",
    "#assistant speaks first, use USER_FIRST_TURN_COUNTER=2\n",
    "USER_FIRST_TURN_COUNTER=2\n",
    "userFirstTurnView = allLogsDF[allLogsDF['dialog_turn_counter']==USER_FIRST_TURN_COUNTER]\n",
    "userFirstTurnDF = userFirstTurnView[[\"input.text\",\"intent\",\"intent_confidence\"]]\n",
    "\n",
    "len(userFirstTurnDF)\n",
    "userFirstTurnDF.head()"
   ]
  },
  {
   "cell_type": "markdown",
   "metadata": {},
   "source": [
    "## Summarizing the response distribution"
   ]
  },
  {
   "cell_type": "code",
   "execution_count": 14,
   "metadata": {},
   "outputs": [
    {
     "data": {
      "text/html": [
       "<div>\n",
       "<style scoped>\n",
       "    .dataframe tbody tr th:only-of-type {\n",
       "        vertical-align: middle;\n",
       "    }\n",
       "\n",
       "    .dataframe tbody tr th {\n",
       "        vertical-align: top;\n",
       "    }\n",
       "\n",
       "    .dataframe thead th {\n",
       "        text-align: right;\n",
       "    }\n",
       "</style>\n",
       "<table border=\"1\" class=\"dataframe\">\n",
       "  <thead>\n",
       "    <tr style=\"text-align: right;\">\n",
       "      <th></th>\n",
       "      <th>intent</th>\n",
       "      <th>count</th>\n",
       "      <th>confidence</th>\n",
       "    </tr>\n",
       "  </thead>\n",
       "  <tbody>\n",
       "    <tr>\n",
       "      <th>0</th>\n",
       "      <td>(no intent found)</td>\n",
       "      <td>3</td>\n",
       "      <td>0.000000</td>\n",
       "    </tr>\n",
       "    <tr>\n",
       "      <th>1</th>\n",
       "      <td>General_Ending</td>\n",
       "      <td>3</td>\n",
       "      <td>0.854945</td>\n",
       "    </tr>\n",
       "    <tr>\n",
       "      <th>2</th>\n",
       "      <td>General_Greetings</td>\n",
       "      <td>9</td>\n",
       "      <td>0.902393</td>\n",
       "    </tr>\n",
       "    <tr>\n",
       "      <th>3</th>\n",
       "      <td>General_Jokes</td>\n",
       "      <td>1</td>\n",
       "      <td>0.676433</td>\n",
       "    </tr>\n",
       "  </tbody>\n",
       "</table>\n",
       "</div>"
      ],
      "text/plain": [
       "              intent  count  confidence\n",
       "0  (no intent found)      3    0.000000\n",
       "1     General_Ending      3    0.854945\n",
       "2  General_Greetings      9    0.902393\n",
       "3      General_Jokes      1    0.676433"
      ]
     },
     "execution_count": 14,
     "metadata": {},
     "output_type": "execute_result"
    }
   ],
   "source": [
    "# Using pandas aggregators to count how often each intent is selected and its average confidence\n",
    "userIntentSummaryDF = userFirstTurnDF.groupby('intent',as_index=False).agg({\n",
    "   'input.text': ['count'], \n",
    "   'intent_confidence': ['mean']\n",
    "})\n",
    "\n",
    "#rename columns\n",
    "userIntentSummaryDF.columns=[\"intent\",\"count\",\"confidence\"]\n",
    "\n",
    "# Increases readability of dashboard reports\n",
    "if userIntentSummaryDF.loc[0,\"intent\"]==\"\":\n",
    "    userIntentSummaryDF.loc[0,\"intent\"]=\"(no intent found)\"\n",
    "\n",
    "userIntentSummaryDF.head()"
   ]
  },
  {
   "cell_type": "markdown",
   "metadata": {},
   "source": [
    "## visualization for the intents in a tree map"
   ]
  },
  {
   "cell_type": "code",
   "execution_count": 15,
   "metadata": {},
   "outputs": [
    {
     "data": {
      "image/png": "[encoded data removed]",
      "text/plain": [
       "<Figure size 1080x720 with 1 Axes>"
      ]
     },
     "metadata": {
      "needs_background": "light"
     },
     "output_type": "display_data"
    }
   ],
   "source": [
    "#Tree maps are visualizations, they look at two dimensions at once. \n",
    "#One dimension is expressed in size and the other via color and/or placement.\n",
    "#Number of times intent appears as the size\n",
    "#Average confidence of intent as color/placement (high confidence as green and lower-left, low confidence as red and upper-right)\n",
    "intent_heatmap.generateTreemap(userIntentSummaryDF, 'count', 'confidence', 'intent', 'Classifier confidence by intent')"
   ]
  },
  {
   "cell_type": "markdown",
   "metadata": {},
   "source": [
    "# calculate metrices for intent classification"
   ]
  },
  {
   "cell_type": "code",
   "execution_count": 75,
   "metadata": {},
   "outputs": [],
   "source": [
    "#import dataasset\n",
    "my_file_int = project.get_file(\"intents_klassifiziert.csv\")\n",
    "\n",
    "# Read the CSV file into a pandas DataFrame\n",
    "my_file_int.seek(0)\n",
    "df_int_cl = pd.read_csv(my_file_int)"
   ]
  },
  {
   "cell_type": "code",
   "execution_count": 76,
   "metadata": {},
   "outputs": [
    {
     "data": {
      "text/html": [
       "<div>\n",
       "<style scoped>\n",
       "    .dataframe tbody tr th:only-of-type {\n",
       "        vertical-align: middle;\n",
       "    }\n",
       "\n",
       "    .dataframe tbody tr th {\n",
       "        vertical-align: top;\n",
       "    }\n",
       "\n",
       "    .dataframe thead th {\n",
       "        text-align: right;\n",
       "    }\n",
       "</style>\n",
       "<table border=\"1\" class=\"dataframe\">\n",
       "  <thead>\n",
       "    <tr style=\"text-align: right;\">\n",
       "      <th></th>\n",
       "      <th>input.text</th>\n",
       "      <th>intent</th>\n",
       "      <th>intent_confidence</th>\n",
       "      <th>classification</th>\n",
       "    </tr>\n",
       "  </thead>\n",
       "  <tbody>\n",
       "    <tr>\n",
       "      <th>0</th>\n",
       "      <td>NaN</td>\n",
       "      <td>NaN</td>\n",
       "      <td>0.000000</td>\n",
       "      <td>NaN</td>\n",
       "    </tr>\n",
       "    <tr>\n",
       "      <th>1</th>\n",
       "      <td>test1234567890</td>\n",
       "      <td>NaN</td>\n",
       "      <td>0.000000</td>\n",
       "      <td>TN</td>\n",
       "    </tr>\n",
       "    <tr>\n",
       "      <th>2</th>\n",
       "      <td>hallo?</td>\n",
       "      <td>General_Greetings</td>\n",
       "      <td>0.847273</td>\n",
       "      <td>TP</td>\n",
       "    </tr>\n",
       "    <tr>\n",
       "      <th>3</th>\n",
       "      <td>ich möchte meine adresse ändern lassen in ihre...</td>\n",
       "      <td>Customer_Care_User_newAddress</td>\n",
       "      <td>0.965179</td>\n",
       "      <td>TP</td>\n",
       "    </tr>\n",
       "    <tr>\n",
       "      <th>4</th>\n",
       "      <td>ja</td>\n",
       "      <td>General_Positive_Feedback</td>\n",
       "      <td>0.907424</td>\n",
       "      <td>TP</td>\n",
       "    </tr>\n",
       "  </tbody>\n",
       "</table>\n",
       "</div>"
      ],
      "text/plain": [
       "                                          input.text  \\\n",
       "0                                                NaN   \n",
       "1                                     test1234567890   \n",
       "2                                             hallo?   \n",
       "3  ich möchte meine adresse ändern lassen in ihre...   \n",
       "4                                                 ja   \n",
       "\n",
       "                          intent  intent_confidence classification  \n",
       "0                            NaN           0.000000            NaN  \n",
       "1                            NaN           0.000000             TN  \n",
       "2              General_Greetings           0.847273             TP  \n",
       "3  Customer_Care_User_newAddress           0.965179             TP  \n",
       "4      General_Positive_Feedback           0.907424             TP  "
      ]
     },
     "execution_count": 76,
     "metadata": {},
     "output_type": "execute_result"
    }
   ],
   "source": [
    "df_int_cl.head()"
   ]
  },
  {
   "cell_type": "code",
   "execution_count": 64,
   "metadata": {},
   "outputs": [
    {
     "name": "stdout",
     "output_type": "stream",
     "text": [
      "{'TP': 90, 'TN': 68, 'FP': 45, 'FN': 3}\n"
     ]
    }
   ],
   "source": [
    "#get the counts of true positive, true negative, false positive and false negative\n",
    "int_counts = df_int_cl['classification'].value_counts().to_dict()\n",
    "tp = int_counts['TP']\n",
    "tn = int_counts['TN']\n",
    "fp = int_counts['FP']\n",
    "fn = int_counts['FN']\n",
    "print(int_counts)"
   ]
  },
  {
   "cell_type": "markdown",
   "metadata": {},
   "source": [
    "## Recall"
   ]
  },
  {
   "cell_type": "code",
   "execution_count": 62,
   "metadata": {},
   "outputs": [
    {
     "name": "stdout",
     "output_type": "stream",
     "text": [
      "0.967741935483871\n"
     ]
    }
   ],
   "source": [
    "recall = tp/(tp+fn)\n",
    "print(recall)"
   ]
  },
  {
   "cell_type": "markdown",
   "metadata": {},
   "source": [
    "## Precision"
   ]
  },
  {
   "cell_type": "code",
   "execution_count": 65,
   "metadata": {},
   "outputs": [
    {
     "name": "stdout",
     "output_type": "stream",
     "text": [
      "0.6666666666666666\n"
     ]
    }
   ],
   "source": [
    "precision = tp/(tp+fp)\n",
    "print(precision)"
   ]
  },
  {
   "cell_type": "markdown",
   "metadata": {},
   "source": [
    "## F1-Score"
   ]
  },
  {
   "cell_type": "code",
   "execution_count": 66,
   "metadata": {},
   "outputs": [
    {
     "name": "stdout",
     "output_type": "stream",
     "text": [
      "0.7894736842105263\n"
     ]
    }
   ],
   "source": [
    "f1 = 2 * (precision*recall) / (precision + recall)\n",
    "print(f1)"
   ]
  },
  {
   "cell_type": "markdown",
   "metadata": {},
   "source": [
    "## Accuracy"
   ]
  },
  {
   "cell_type": "code",
   "execution_count": 67,
   "metadata": {},
   "outputs": [
    {
     "name": "stdout",
     "output_type": "stream",
     "text": [
      "0.7669902912621359\n"
     ]
    }
   ],
   "source": [
    "acc = (tp + tn) / (tp + tn + fp + fn)\n",
    "print(acc)"
   ]
  },
  {
   "cell_type": "markdown",
   "metadata": {},
   "source": [
    "# calculate metrices for entity extraction"
   ]
  },
  {
   "cell_type": "code",
   "execution_count": 48,
   "metadata": {},
   "outputs": [],
   "source": [
    "#import dataasset\n",
    "my_file_ent = project.get_file(\"entites_klassifiziert_neu.csv\")\n",
    "\n",
    "# Read the CSV file into a pandas DataFrame\n",
    "my_file_ent.seek(0)\n",
    "df_ent_cl = pd.read_csv(my_file_ent, sep=\";\")"
   ]
  },
  {
   "cell_type": "code",
   "execution_count": 49,
   "metadata": {},
   "outputs": [
    {
     "data": {
      "text/html": [
       "<div>\n",
       "<style scoped>\n",
       "    .dataframe tbody tr th:only-of-type {\n",
       "        vertical-align: middle;\n",
       "    }\n",
       "\n",
       "    .dataframe tbody tr th {\n",
       "        vertical-align: top;\n",
       "    }\n",
       "\n",
       "    .dataframe thead th {\n",
       "        text-align: right;\n",
       "    }\n",
       "</style>\n",
       "<table border=\"1\" class=\"dataframe\">\n",
       "  <thead>\n",
       "    <tr style=\"text-align: right;\">\n",
       "      <th></th>\n",
       "      <th>classification</th>\n",
       "      <th>input.text</th>\n",
       "    </tr>\n",
       "  </thead>\n",
       "  <tbody>\n",
       "    <tr>\n",
       "      <th>0</th>\n",
       "      <td>NaN</td>\n",
       "      <td>NaN</td>\n",
       "    </tr>\n",
       "    <tr>\n",
       "      <th>1</th>\n",
       "      <td>FP</td>\n",
       "      <td>test1234567890</td>\n",
       "    </tr>\n",
       "    <tr>\n",
       "      <th>2</th>\n",
       "      <td>TN</td>\n",
       "      <td>hallo?</td>\n",
       "    </tr>\n",
       "    <tr>\n",
       "      <th>3</th>\n",
       "      <td>FP</td>\n",
       "      <td>ich mÃ¶chte meine adresse Ã¤ndern lassen in ih...</td>\n",
       "    </tr>\n",
       "    <tr>\n",
       "      <th>4</th>\n",
       "      <td>TP</td>\n",
       "      <td>ja</td>\n",
       "    </tr>\n",
       "    <tr>\n",
       "      <th>...</th>\n",
       "      <td>...</td>\n",
       "      <td>...</td>\n",
       "    </tr>\n",
       "    <tr>\n",
       "      <th>120</th>\n",
       "      <td>TP</td>\n",
       "      <td>Allentsteig</td>\n",
       "    </tr>\n",
       "    <tr>\n",
       "      <th>121</th>\n",
       "      <td>NaN</td>\n",
       "      <td>Kalvarienberg 15/3</td>\n",
       "    </tr>\n",
       "    <tr>\n",
       "      <th>122</th>\n",
       "      <td>TP</td>\n",
       "      <td>15.Mär</td>\n",
       "    </tr>\n",
       "    <tr>\n",
       "      <th>123</th>\n",
       "      <td>TN</td>\n",
       "      <td>danke ich melde mich morgen wieder</td>\n",
       "    </tr>\n",
       "    <tr>\n",
       "      <th>124</th>\n",
       "      <td>TP</td>\n",
       "      <td>ja</td>\n",
       "    </tr>\n",
       "  </tbody>\n",
       "</table>\n",
       "<p>125 rows × 2 columns</p>\n",
       "</div>"
      ],
      "text/plain": [
       "    classification                                         input.text\n",
       "0              NaN                                                NaN\n",
       "1               FP                                     test1234567890\n",
       "2               TN                                             hallo?\n",
       "3               FP  ich mÃ¶chte meine adresse Ã¤ndern lassen in ih...\n",
       "4               TP                                                 ja\n",
       "..             ...                                                ...\n",
       "120             TP                                        Allentsteig\n",
       "121            NaN                                 Kalvarienberg 15/3\n",
       "122             TP                                             15.Mär\n",
       "123             TN                 danke ich melde mich morgen wieder\n",
       "124             TP                                                 ja\n",
       "\n",
       "[125 rows x 2 columns]"
      ]
     },
     "execution_count": 49,
     "metadata": {},
     "output_type": "execute_result"
    }
   ],
   "source": [
    "df_ent_cl"
   ]
  },
  {
   "cell_type": "code",
   "execution_count": 56,
   "metadata": {},
   "outputs": [
    {
     "name": "stdout",
     "output_type": "stream",
     "text": [
      "{'TP': 49, 'TN': 38, 'FP': 14, 'FN': 0}\n"
     ]
    }
   ],
   "source": [
    "#get the counts of true positive, true negative, false positive and false negative\n",
    "ent_counts = df_ent_cl['classification'].value_counts().to_dict()\n",
    "etp = ent_counts['TP']\n",
    "etn = ent_counts['TN']\n",
    "efp = ent_counts['FP']\n",
    "ent_counts['FN'] = 0\n",
    "efn = ent_counts['FN']\n",
    "print(ent_counts)"
   ]
  },
  {
   "cell_type": "markdown",
   "metadata": {},
   "source": [
    "## Recall Entities"
   ]
  },
  {
   "cell_type": "code",
   "execution_count": 57,
   "metadata": {},
   "outputs": [
    {
     "name": "stdout",
     "output_type": "stream",
     "text": [
      "1.0\n"
     ]
    }
   ],
   "source": [
    "erecall = etp/(etp+efn)\n",
    "print(erecall)"
   ]
  },
  {
   "cell_type": "markdown",
   "metadata": {},
   "source": [
    "## Precision Entities"
   ]
  },
  {
   "cell_type": "code",
   "execution_count": 58,
   "metadata": {},
   "outputs": [
    {
     "name": "stdout",
     "output_type": "stream",
     "text": [
      "0.7777777777777778\n"
     ]
    }
   ],
   "source": [
    "eprecision = etp/(etp+efp)\n",
    "print(eprecision)"
   ]
  },
  {
   "cell_type": "markdown",
   "metadata": {},
   "source": [
    "## F1-Score Entities"
   ]
  },
  {
   "cell_type": "code",
   "execution_count": 59,
   "metadata": {},
   "outputs": [
    {
     "name": "stdout",
     "output_type": "stream",
     "text": [
      "0.8750000000000001\n"
     ]
    }
   ],
   "source": [
    "ef1 = 2 * (eprecision*erecall) / (eprecision + erecall)\n",
    "print(ef1)"
   ]
  },
  {
   "cell_type": "markdown",
   "metadata": {},
   "source": [
    "## Accuracy Entities"
   ]
  },
  {
   "cell_type": "code",
   "execution_count": 60,
   "metadata": {},
   "outputs": [
    {
     "name": "stdout",
     "output_type": "stream",
     "text": [
      "0.8613861386138614\n"
     ]
    }
   ],
   "source": [
    "eacc = (etp + etn) / (etp + etn + efp + efn)\n",
    "print(eacc)"
   ]
  }
 ],
 "metadata": {
  "kernelspec": {
   "display_name": "Python 3",
   "language": "python",
   "name": "python3"
  },
  "language_info": {
   "codemirror_mode": {
    "name": "ipython",
    "version": 3
   },
   "file_extension": ".py",
   "mimetype": "text/x-python",
   "name": "python",
   "nbconvert_exporter": "python",
   "pygments_lexer": "ipython3",
   "version": "3.8.3"
  }
 },
 "nbformat": 4,
 "nbformat_minor": 2
}
