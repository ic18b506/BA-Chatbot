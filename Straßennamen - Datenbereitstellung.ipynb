{
 "cells": [
  {
   "cell_type": "code",
   "execution_count": 1,
   "metadata": {},
   "outputs": [],
   "source": [
    "import pandas as pd"
   ]
  },
  {
   "cell_type": "markdown",
   "metadata": {},
   "source": [
    "# Datenimport für alle Bundesländer\n",
    "## Erstellung der Daten am 25.03.2021, Download am 31.03.2021"
   ]
  },
  {
   "cell_type": "code",
   "execution_count": 2,
   "metadata": {},
   "outputs": [],
   "source": [
    "df_bgld = pd.read_excel('gemplzstr_burgenland.xls')\n",
    "df_wien = pd.read_excel('gemplzstr_wien.xls')\n",
    "df_noe = pd.read_excel('gemplzstr_nö.xls')\n",
    "df_ooe = pd.read_excel('gemplzstr_oö.xls')\n",
    "df_stmk = pd.read_excel('gemplzstr_steiermark.xls')\n",
    "df_ktn = pd.read_excel('gemplzstr_kärnten.xls')\n",
    "df_tir = pd.read_excel('gemplzstr_tirol.xls')\n",
    "df_vbg = pd.read_excel('gemplzstr_vorarlberg.xls')\n",
    "df_sbg = pd.read_excel('gemplzstr_salzburg.xls')"
   ]
  },
  {
   "cell_type": "markdown",
   "metadata": {},
   "source": [
    "## Löschen der nicht benötigten Spalten"
   ]
  },
  {
   "cell_type": "code",
   "execution_count": 3,
   "metadata": {},
   "outputs": [],
   "source": [
    "del df_bgld['Gemeinde kennziffer'], df_bgld['Politische Gemeinde'], df_bgld['Ortschafts kennziffer'], df_bgld['Straßen kennziffer'], df_bgld['Zustellort'], df_bgld['Gemeinde code'], df_bgld['Postleitzahl']\n",
    "del df_wien['Gemeinde kennziffer'], df_wien['Politische Gemeinde'], df_wien['Ortschafts kennziffer'], df_wien['Straßen kennziffer'], df_wien['Zustellort'], df_wien['Gemeinde code'], df_wien['Postleitzahl']\n",
    "del df_noe['Gemeinde kennziffer'], df_noe['Politische Gemeinde'], df_noe['Ortschafts kennziffer'], df_noe['Straßen kennziffer'], df_noe['Zustellort'], df_noe['Gemeinde code'], df_noe['Postleitzahl']\n",
    "del df_ooe['Gemeinde kennziffer'], df_ooe['Politische Gemeinde'], df_ooe['Ortschafts kennziffer'], df_ooe['Straßen kennziffer'], df_ooe['Zustellort'], df_ooe['Gemeinde code'], df_ooe['Postleitzahl']\n",
    "del df_stmk['Gemeinde kennziffer'], df_stmk['Politische Gemeinde'], df_stmk['Ortschafts kennziffer'], df_stmk['Straßen kennziffer'], df_stmk['Zustellort'], df_stmk['Gemeinde code'], df_stmk['Postleitzahl']\n",
    "del df_ktn['Gemeinde kennziffer'], df_ktn['Politische Gemeinde'], df_ktn['Ortschafts kennziffer'], df_ktn['Straßen kennziffer'], df_ktn['Zustellort'], df_ktn['Gemeinde code'], df_ktn['Postleitzahl']\n",
    "del df_tir['Gemeinde kennziffer'], df_tir['Politische Gemeinde'], df_tir['Ortschafts kennziffer'], df_tir['Straßen kennziffer'], df_tir['Zustellort'], df_tir['Gemeinde code'], df_tir['Postleitzahl']\n",
    "del df_vbg['Gemeinde kennziffer'], df_vbg['Politische Gemeinde'], df_vbg['Ortschafts kennziffer'], df_vbg['Straßen kennziffer'], df_vbg['Zustellort'], df_vbg['Gemeinde code'], df_vbg['Postleitzahl']\n",
    "del df_sbg['Gemeinde kennziffer'], df_sbg['Politische Gemeinde'], df_sbg['Ortschafts kennziffer'], df_sbg['Straßen kennziffer'], df_sbg['Zustellort'], df_sbg['Gemeinde code'], df_sbg['Postleitzahl']"
   ]
  },
  {
   "cell_type": "markdown",
   "metadata": {},
   "source": [
    "## erste Spalte auf 'Strasse' setzen"
   ]
  },
  {
   "cell_type": "code",
   "execution_count": 4,
   "metadata": {},
   "outputs": [],
   "source": [
    "df_bgld['Ortschaftsname'] = 'Strasse'\n",
    "df_wien['Ortschaftsname'] = 'Strasse'\n",
    "df_noe['Ortschaftsname'] = 'Strasse'\n",
    "df_ooe['Ortschaftsname'] = 'Strasse'\n",
    "df_stmk['Ortschaftsname'] = 'Strasse'\n",
    "df_ktn['Ortschaftsname'] = 'Strasse'\n",
    "df_tir['Ortschaftsname'] = 'Strasse'\n",
    "df_vbg['Ortschaftsname'] = 'Strasse'\n",
    "df_sbg['Ortschaftsname'] = 'Strasse'"
   ]
  },
  {
   "cell_type": "code",
   "execution_count": 5,
   "metadata": {},
   "outputs": [
    {
     "data": {
      "text/html": [
       "<div>\n",
       "<style scoped>\n",
       "    .dataframe tbody tr th:only-of-type {\n",
       "        vertical-align: middle;\n",
       "    }\n",
       "\n",
       "    .dataframe tbody tr th {\n",
       "        vertical-align: top;\n",
       "    }\n",
       "\n",
       "    .dataframe thead th {\n",
       "        text-align: right;\n",
       "    }\n",
       "</style>\n",
       "<table border=\"1\" class=\"dataframe\">\n",
       "  <thead>\n",
       "    <tr style=\"text-align: right;\">\n",
       "      <th></th>\n",
       "      <th>Ortschaftsname</th>\n",
       "      <th>Straßenname</th>\n",
       "    </tr>\n",
       "  </thead>\n",
       "  <tbody>\n",
       "    <tr>\n",
       "      <th>count</th>\n",
       "      <td>7858</td>\n",
       "      <td>7856</td>\n",
       "    </tr>\n",
       "    <tr>\n",
       "      <th>unique</th>\n",
       "      <td>1</td>\n",
       "      <td>4458</td>\n",
       "    </tr>\n",
       "    <tr>\n",
       "      <th>top</th>\n",
       "      <td>Strasse</td>\n",
       "      <td>Feldgasse</td>\n",
       "    </tr>\n",
       "    <tr>\n",
       "      <th>freq</th>\n",
       "      <td>7858</td>\n",
       "      <td>94</td>\n",
       "    </tr>\n",
       "  </tbody>\n",
       "</table>\n",
       "</div>"
      ],
      "text/plain": [
       "       Ortschaftsname Straßenname\n",
       "count            7858        7856\n",
       "unique              1        4458\n",
       "top           Strasse   Feldgasse\n",
       "freq             7858          94"
      ]
     },
     "execution_count": 5,
     "metadata": {},
     "output_type": "execute_result"
    }
   ],
   "source": [
    "df_bgld.describe()"
   ]
  },
  {
   "cell_type": "markdown",
   "metadata": {},
   "source": [
    "## doppelte Einträge entfernen"
   ]
  },
  {
   "cell_type": "code",
   "execution_count": 9,
   "metadata": {},
   "outputs": [],
   "source": [
    "df_bgld_small = df_bgld.drop_duplicates()\n",
    "df_wien_small = df_wien.drop_duplicates()\n",
    "df_noe_small = df_noe.drop_duplicates()\n",
    "df_ooe_small = df_ooe.drop_duplicates()\n",
    "df_stmk_small = df_stmk.drop_duplicates()\n",
    "df_ktn_small = df_ktn.drop_duplicates()\n",
    "df_tir_small = df_tir.drop_duplicates()\n",
    "df_sbg_small = df_sbg.drop_duplicates()\n",
    "df_vbg_small = df_vbg.drop_duplicates()"
   ]
  },
  {
   "cell_type": "markdown",
   "metadata": {},
   "source": [
    "## zu einem Dataframe mergen"
   ]
  },
  {
   "cell_type": "code",
   "execution_count": 10,
   "metadata": {},
   "outputs": [
    {
     "data": {
      "text/html": [
       "<div>\n",
       "<style scoped>\n",
       "    .dataframe tbody tr th:only-of-type {\n",
       "        vertical-align: middle;\n",
       "    }\n",
       "\n",
       "    .dataframe tbody tr th {\n",
       "        vertical-align: top;\n",
       "    }\n",
       "\n",
       "    .dataframe thead th {\n",
       "        text-align: right;\n",
       "    }\n",
       "</style>\n",
       "<table border=\"1\" class=\"dataframe\">\n",
       "  <thead>\n",
       "    <tr style=\"text-align: right;\">\n",
       "      <th></th>\n",
       "      <th>Ortschaftsname</th>\n",
       "      <th>Straßenname</th>\n",
       "    </tr>\n",
       "  </thead>\n",
       "  <tbody>\n",
       "    <tr>\n",
       "      <th>count</th>\n",
       "      <td>47413</td>\n",
       "      <td>47412</td>\n",
       "    </tr>\n",
       "    <tr>\n",
       "      <th>unique</th>\n",
       "      <td>1</td>\n",
       "      <td>47412</td>\n",
       "    </tr>\n",
       "    <tr>\n",
       "      <th>top</th>\n",
       "      <td>Strasse</td>\n",
       "      <td>Gartenweg (Einsiedl)</td>\n",
       "    </tr>\n",
       "    <tr>\n",
       "      <th>freq</th>\n",
       "      <td>47413</td>\n",
       "      <td>1</td>\n",
       "    </tr>\n",
       "  </tbody>\n",
       "</table>\n",
       "</div>"
      ],
      "text/plain": [
       "       Ortschaftsname           Straßenname\n",
       "count           47413                 47412\n",
       "unique              1                 47412\n",
       "top           Strasse  Gartenweg (Einsiedl)\n",
       "freq            47413                     1"
      ]
     },
     "execution_count": 10,
     "metadata": {},
     "output_type": "execute_result"
    }
   ],
   "source": [
    "df_strassen1 = df_bgld_small.merge(df_wien_small, how='outer', left_index=False, right_index=False)\n",
    "df_strassen2 = df_strassen1.merge(df_noe_small, how='outer', left_index=False, right_index=False)\n",
    "df_strassen3 = df_strassen2.merge(df_ooe_small, how='outer', left_index=False, right_index=False)\n",
    "df_strassen3.describe()"
   ]
  },
  {
   "cell_type": "code",
   "execution_count": 11,
   "metadata": {},
   "outputs": [],
   "source": [
    "df_strassen4 = df_strassen3.merge(df_stmk_small, how='outer', left_index=False, right_index=False)\n",
    "df_strassen5 = df_strassen4.merge(df_ktn_small, how='outer', left_index=False, right_index=False)\n",
    "df_strassen6 = df_strassen5.merge(df_tir_small, how='outer', left_index=False, right_index=False)\n",
    "df_strassen7 = df_strassen6.merge(df_vbg_small, how='outer', left_index=False, right_index=False)\n",
    "df_strassen8 = df_strassen7.merge(df_sbg_small, how='outer', left_index=False, right_index=False)"
   ]
  },
  {
   "cell_type": "code",
   "execution_count": 12,
   "metadata": {},
   "outputs": [
    {
     "data": {
      "text/html": [
       "<div>\n",
       "<style scoped>\n",
       "    .dataframe tbody tr th:only-of-type {\n",
       "        vertical-align: middle;\n",
       "    }\n",
       "\n",
       "    .dataframe tbody tr th {\n",
       "        vertical-align: top;\n",
       "    }\n",
       "\n",
       "    .dataframe thead th {\n",
       "        text-align: right;\n",
       "    }\n",
       "</style>\n",
       "<table border=\"1\" class=\"dataframe\">\n",
       "  <thead>\n",
       "    <tr style=\"text-align: right;\">\n",
       "      <th></th>\n",
       "      <th>Ortschaftsname</th>\n",
       "      <th>Straßenname</th>\n",
       "    </tr>\n",
       "  </thead>\n",
       "  <tbody>\n",
       "    <tr>\n",
       "      <th>count</th>\n",
       "      <td>75123</td>\n",
       "      <td>75122</td>\n",
       "    </tr>\n",
       "    <tr>\n",
       "      <th>unique</th>\n",
       "      <td>1</td>\n",
       "      <td>75122</td>\n",
       "    </tr>\n",
       "    <tr>\n",
       "      <th>top</th>\n",
       "      <td>Strasse</td>\n",
       "      <td>Zitoll</td>\n",
       "    </tr>\n",
       "    <tr>\n",
       "      <th>freq</th>\n",
       "      <td>75123</td>\n",
       "      <td>1</td>\n",
       "    </tr>\n",
       "  </tbody>\n",
       "</table>\n",
       "</div>"
      ],
      "text/plain": [
       "       Ortschaftsname Straßenname\n",
       "count           75123       75122\n",
       "unique              1       75122\n",
       "top           Strasse      Zitoll\n",
       "freq            75123           1"
      ]
     },
     "execution_count": 12,
     "metadata": {},
     "output_type": "execute_result"
    }
   ],
   "source": [
    "df_strassen8.describe()"
   ]
  },
  {
   "cell_type": "markdown",
   "metadata": {},
   "source": [
    "## Dataframe in CSV exportieren"
   ]
  },
  {
   "cell_type": "code",
   "execution_count": 14,
   "metadata": {},
   "outputs": [],
   "source": [
    "df_strassen8.to_csv('Strassen.csv', index=False, header=None, sep = ',')"
   ]
  }
 ],
 "metadata": {
  "kernelspec": {
   "display_name": "Python 3",
   "language": "python",
   "name": "python3"
  },
  "language_info": {
   "codemirror_mode": {
    "name": "ipython",
    "version": 3
   },
   "file_extension": ".py",
   "mimetype": "text/x-python",
   "name": "python",
   "nbconvert_exporter": "python",
   "pygments_lexer": "ipython3",
   "version": "3.8.3"
  }
 },
 "nbformat": 4,
 "nbformat_minor": 4
}
