{
 "cells": [
  {
   "cell_type": "code",
   "execution_count": 2,
   "metadata": {},
   "outputs": [
    {
     "name": "stdout",
     "output_type": "stream",
     "text": [
      "/opt/conda/envs/Python-3.7-main/lib/python3.7/site-packages/secretstorage/dhcrypto.py:16: CryptographyDeprecationWarning: int_from_bytes is deprecated, use int.from_bytes instead\n",
      "  from cryptography.utils import int_from_bytes\n",
      "/opt/conda/envs/Python-3.7-main/lib/python3.7/site-packages/secretstorage/util.py:25: CryptographyDeprecationWarning: int_from_bytes is deprecated, use int.from_bytes instead\n",
      "  from cryptography.utils import int_from_bytes\n",
      "Collecting ibm-watson\n",
      "  Downloading ibm-watson-5.1.0.tar.gz (382 kB)\n",
      "\u001b[K     |████████████████████████████████| 382 kB 17.9 MB/s eta 0:00:01\n",
      "\u001b[?25hRequirement already satisfied, skipping upgrade: requests<3.0,>=2.0 in /opt/conda/envs/Python-3.7-main/lib/python3.7/site-packages (from ibm-watson) (2.24.0)\n",
      "Requirement already satisfied, skipping upgrade: python_dateutil>=2.5.3 in /opt/conda/envs/Python-3.7-main/lib/python3.7/site-packages (from ibm-watson) (2.8.1)\n",
      "Collecting websocket-client==0.48.0\n",
      "  Downloading websocket_client-0.48.0-py2.py3-none-any.whl (198 kB)\n",
      "\u001b[K     |████████████████████████████████| 198 kB 48.8 MB/s eta 0:00:01\n",
      "\u001b[?25hCollecting ibm_cloud_sdk_core>=3.3.6\n",
      "  Downloading ibm-cloud-sdk-core-3.10.0.tar.gz (39 kB)\n",
      "Requirement already satisfied, skipping upgrade: certifi>=2017.4.17 in /opt/conda/envs/Python-3.7-main/lib/python3.7/site-packages (from requests<3.0,>=2.0->ibm-watson) (2020.12.5)\n",
      "Requirement already satisfied, skipping upgrade: idna<3,>=2.5 in /opt/conda/envs/Python-3.7-main/lib/python3.7/site-packages (from requests<3.0,>=2.0->ibm-watson) (2.9)\n",
      "Requirement already satisfied, skipping upgrade: urllib3!=1.25.0,!=1.25.1,<1.26,>=1.21.1 in /opt/conda/envs/Python-3.7-main/lib/python3.7/site-packages (from requests<3.0,>=2.0->ibm-watson) (1.25.9)\n",
      "Requirement already satisfied, skipping upgrade: chardet<4,>=3.0.2 in /opt/conda/envs/Python-3.7-main/lib/python3.7/site-packages (from requests<3.0,>=2.0->ibm-watson) (3.0.4)\n",
      "Requirement already satisfied, skipping upgrade: six>=1.5 in /opt/conda/envs/Python-3.7-main/lib/python3.7/site-packages (from python_dateutil>=2.5.3->ibm-watson) (1.15.0)\n",
      "Collecting PyJWT<3.0.0,>=2.0.1\n",
      "  Downloading PyJWT-2.1.0-py3-none-any.whl (16 kB)\n",
      "Building wheels for collected packages: ibm-watson, ibm-cloud-sdk-core\n",
      "  Building wheel for ibm-watson (setup.py) ... \u001b[?25ldone\n",
      "\u001b[?25h  Created wheel for ibm-watson: filename=ibm_watson-5.1.0-py3-none-any.whl size=375438 sha256=08b02cfc677e0d2cb4b056ec7a665a9610aa8fab1e8ccad8e7853918837607bc\n",
      "  Stored in directory: /tmp/wsuser/.cache/pip/wheels/c1/40/da/ba44de639af32759a5755cb79afedf309104b13fea09bbb5fc\n",
      "  Building wheel for ibm-cloud-sdk-core (setup.py) ... \u001b[?25ldone\n",
      "\u001b[?25h  Created wheel for ibm-cloud-sdk-core: filename=ibm_cloud_sdk_core-3.10.0-py3-none-any.whl size=60913 sha256=d1f90d30554de0f90c189c0985d9bb56ae1d43592e9ea112e1ece1d6d40249f1\n",
      "  Stored in directory: /tmp/wsuser/.cache/pip/wheels/09/6e/48/aa3801c63bbc5914ece2c66a6131925ca99a50d0a16355c8b5\n",
      "Successfully built ibm-watson ibm-cloud-sdk-core\n",
      "Installing collected packages: websocket-client, PyJWT, ibm-cloud-sdk-core, ibm-watson\n",
      "  Attempting uninstall: PyJWT\n",
      "    Found existing installation: PyJWT 1.7.1\n",
      "    Uninstalling PyJWT-1.7.1:\n",
      "      Successfully uninstalled PyJWT-1.7.1\n",
      "  Attempting uninstall: ibm-cloud-sdk-core\n",
      "    Found existing installation: ibm-cloud-sdk-core 3.2.0\n",
      "    Uninstalling ibm-cloud-sdk-core-3.2.0:\n",
      "      Successfully uninstalled ibm-cloud-sdk-core-3.2.0\n",
      "Successfully installed PyJWT-2.1.0 ibm-cloud-sdk-core-3.10.0 ibm-watson-5.1.0 websocket-client-0.48.0\n",
      "Note: you may need to restart the kernel to use updated packages.\n"
     ]
    }
   ],
   "source": [
    "pip install --upgrade ibm-watson"
   ]
  },
  {
   "cell_type": "code",
   "execution_count": 3,
   "metadata": {},
   "outputs": [],
   "source": [
    "import pandas as pd\n",
    "import json\n",
    "import re\n",
    "from pandas import json_normalize\n",
    "from ibm_watson import AssistantV2\n",
    "from IPython.display import display\n",
    "from project_lib import Project\n",
    "from ibm_cloud_sdk_core.authenticators import IAMAuthenticator"
   ]
  },
  {
   "cell_type": "code",
   "execution_count": null,
   "metadata": {},
   "outputs": [],
   "source": [
    "!curl -O https://raw.githubusercontent.com/watson-developer-cloud/assistant-improve-recommendations-notebook/master/src/main/python/cos_op.py\n",
    "!curl -O https://raw.githubusercontent.com/watson-developer-cloud/assistant-improve-recommendations-notebook/master/src/main/python/watson_assistant_func.py\n",
    "!curl -O https://raw.githubusercontent.com/watson-developer-cloud/assistant-improve-recommendations-notebook/master/src/main/python/computation_func.py"
   ]
  },
  {
   "cell_type": "code",
   "execution_count": 5,
   "metadata": {},
   "outputs": [],
   "source": [
    "# Import Cloud Object Storage related functions   \n",
    "from cos_op import generate_link\n",
    "from cos_op import generate_excel_measure\n",
    "from cos_op import export_result_excel\n",
    "\n",
    "# Import Watson Assistant related functions\n",
    "from ibm_cloud_sdk_core.authenticators import IAMAuthenticator\n",
    "from watson_assistant_func import get_logs, get_assistant_definition\n",
    "\n",
    "# Import Dataframe computation related functions\n",
    "from computation_func import get_effective_df\n",
    "from computation_func import get_coverage_df\n",
    "from computation_func import chk_is_valid_node\n",
    "from computation_func import format_data"
   ]
  },
  {
   "cell_type": "code",
   "execution_count": 6,
   "metadata": {},
   "outputs": [],
   "source": [
    "#Variablen definieren fuer db_update\n",
    "global kundennummer\n",
    "kundennummer = 0\n",
    "global postleitzahl\n",
    "global ort\n",
    "global strasse\n",
    "global hausnummer"
   ]
  },
  {
   "cell_type": "code",
   "execution_count": 7,
   "metadata": {},
   "outputs": [],
   "source": [
    "# Provide credentials to connect to assistant\n",
    "authenticator = IAMAuthenticator('my_iam')\n",
    "service = AssistantV2(version='2020-04-01', authenticator=authenticator)\n",
    "service.set_service_url('my_url')"
   ]
  },
  {
   "cell_type": "code",
   "execution_count": 8,
   "metadata": {},
   "outputs": [],
   "source": [
    "assistant_information = {'workspace_id' : '',\n",
    "                        'skill_id' : 'my_skill',\n",
    "                         'assistant_id' : 'my_assistant'}\n",
    "assistant_id = 'my_assistant'"
   ]
  },
  {
   "cell_type": "code",
   "execution_count": 9,
   "metadata": {},
   "outputs": [],
   "source": [
    "session_id = service.create_session(\n",
    " assistant_id = 'my_assistant'\n",
    ").get_result()['session_id']"
   ]
  },
  {
   "cell_type": "code",
   "execution_count": null,
   "metadata": {},
   "outputs": [],
   "source": [
    "print(json.dumps(session_id, indent=2))"
   ]
  },
  {
   "cell_type": "code",
   "execution_count": 11,
   "metadata": {},
   "outputs": [],
   "source": [
    "#Dialog mit leerer Nachricht starten\n",
    "response = service.message(\n",
    "    assistant_id,\n",
    "    session_id\n",
    ").get_result()"
   ]
  },
  {
   "cell_type": "code",
   "execution_count": 12,
   "metadata": {},
   "outputs": [
    {
     "name": "stdout",
     "output_type": "stream",
     "text": [
      "Hallo. Ich bin Lea und freue mich, von Ihnen zu hören!\n",
      ">> hallo\n",
      "Wie kann ich Ihnen helfen?\n",
      ">> ich bin umgezogen und möchte meine adresse ändern lassen\n",
      "Dabei kann ich Ihnen gerne helfen! Möchten Sie Ihre Adresse ändern?\n",
      ">> ja bitte\n",
      "Geben Sie bitte Ihre Kundennummer ein!\n",
      ">> 123456\n",
      "Geben Sie bitte Ihre neue PLZ ein!\n",
      ">> 1200\n",
      "Ihre Eingabe 1200 wurde erkannt. Geben Sie bitte den Ort ein!\n",
      ">> wien\n",
      "Geben Sie bitte Ihre Strasse ein!\n",
      ">> höchstädtplatz\n",
      "Geben Sie bitte Ihre Hausnummer (inkl. Adresszusatz) ein!\n",
      ">> 5/2\n",
      "Vielen Dank für Ihre Eingaben. Wollen Sie die folgende Adresse für Ihre Kundennummer 123456 bestätigen? Höchstädtplatz 5/2 in 1200 Wien.\n",
      ">> ja\n",
      "Ihre Adresse wird  aktualisiert. Sie erhalten in Kürze ein Bestätigungsmail. Auf Wiedersehen.\n",
      ">> dankeschön\n",
      "Bis bald!\n",
      ">> quit#\n",
      ">> quit\n"
     ]
    }
   ],
   "source": [
    "# Mit leerem Wert initialisieren, um den Dialog zu starten\n",
    "message_input = {\n",
    "    'message_type:': 'text',\n",
    "    'text': '',\n",
    "    'options': {\n",
    "        'return_context':True\n",
    "    }\n",
    "}\n",
    "\n",
    "# Ausgabe des Dialogs anzeigen, sofern vorhanden. Unterstützt nur eine\n",
    "# Textantwort.\n",
    "if response['output']['generic']:\n",
    "    if response['output']['generic'][0]['response_type'] == 'text':\n",
    "        print(response['output']['generic'][0]['text'])\n",
    "        \n",
    "# Hauptschleife für Ein-/Ausgabe\n",
    "while message_input['text'] != 'quit':\n",
    "\n",
    "    # Nachricht an Assistent senden\n",
    "    response = service.message(\n",
    "        assistant_id,\n",
    "        session_id,\n",
    "        input = message_input,\n",
    "        context={\n",
    "            'global': {\n",
    "                'system': {\n",
    "                }\n",
    "            },\n",
    "            'skills': {\n",
    "                'main skill': {\n",
    "                    'user_defined': {\n",
    "                        #'knr': 'knr',\n",
    "                        #'plz': 'plz',\n",
    "                        #'ort': 'ort',\n",
    "                        #'strasse': 'strasse'\n",
    "                    }\n",
    "                }\n",
    "            }\n",
    "        }\n",
    "    ).get_result()\n",
    "\n",
    "    # Ausgabe des Dialogs anzeigen, sofern vorhanden. Unterstützt nur eine Textantwort.\n",
    "    if response['output']['generic']:\n",
    "        if response['output']['generic'][0]['response_type'] == 'text':\n",
    "            print(response['output']['generic'][0]['text'])\n",
    "\n",
    "    # Nächste Eingaberunde anfordern\n",
    "    user_input = input('>> ')\n",
    "    message_input = {\n",
    "        'text': user_input,\n",
    "        'options': {\n",
    "        'return_context':True\n",
    "        }\n",
    "    }"
   ]
  },
  {
   "cell_type": "code",
   "execution_count": null,
   "metadata": {},
   "outputs": [],
   "source": [
    "kundennummer = response['context']['skills']['main skill']['user_defined']['knr']\n",
    "postleitzahl = response['context']['skills']['main skill']['user_defined']['plz']\n",
    "ort = response['context']['skills']['main skill']['user_defined']['ort']\n",
    "strasse = response['context']['skills']['main skill']['user_defined']['strasse']\n",
    "hausnummer = response['context']['skills']['main skill']['user_defined']['hausnummer']\n",
    "\n",
    "print(kundennummer, postleitzahl, ort, strasse, hausnummer)\n",
    "print(response['context']['skills'])\n",
    "print(response)"
   ]
  },
  {
   "cell_type": "code",
   "execution_count": 14,
   "metadata": {},
   "outputs": [
    {
     "data": {
      "text/plain": [
       "<ibm_cloud_sdk_core.detailed_response.DetailedResponse at 0x7eff9da03250>"
      ]
     },
     "execution_count": 14,
     "metadata": {},
     "output_type": "execute_result"
    }
   ],
   "source": [
    "# delete session \n",
    "service.delete_session(\n",
    "    assistant_id = assistant_id,\n",
    "    session_id = session_id\n",
    ")"
   ]
  },
  {
   "cell_type": "code",
   "execution_count": 15,
   "metadata": {},
   "outputs": [],
   "source": [
    "import ibm_db"
   ]
  },
  {
   "cell_type": "code",
   "execution_count": 16,
   "metadata": {},
   "outputs": [],
   "source": [
    "dsn_hostname = 'my_hostname'\n",
    "dsn_uid = 'my_id'\n",
    "dsn_pwd = 'my_pwd'\n",
    "\n",
    "dsn_driver = \"{IBM DB2 ODBC DRIVER}\"\n",
    "dsn_database = \"BLUDB\"            # e.g. \"BLUDB\"\n",
    "dsn_port = \"50000\"                # e.g. \"50000\" \n",
    "dsn_protocol = \"TCPIP\"            # i.e. \"TCPIP\""
   ]
  },
  {
   "cell_type": "code",
   "execution_count": null,
   "metadata": {},
   "outputs": [],
   "source": [
    "#Create database connection\n",
    "dsn = (\n",
    "    \"DRIVER={0};\"\n",
    "    \"DATABASE={1};\"\n",
    "    \"HOSTNAME={2};\"\n",
    "    \"PORT={3};\"\n",
    "    \"PROTOCOL={4};\"\n",
    "    \"UID={5};\"\n",
    "    \"PWD={6};\").format(dsn_driver, dsn_database, dsn_hostname, dsn_port, dsn_protocol, dsn_uid, dsn_pwd)\n",
    "\n",
    "try:\n",
    "    conn = ibm_db.connect(dsn, \"\", \"\")\n",
    "    print (\"Connected to database: \", dsn_database, \"as user: \", dsn_uid, \"on host: \", dsn_hostname)\n",
    "\n",
    "except:\n",
    "    print (\"Unable to connect: \", ibm_db.conn_errormsg() )"
   ]
  },
  {
   "cell_type": "code",
   "execution_count": 18,
   "metadata": {},
   "outputs": [],
   "source": [
    "#Construct the query\n",
    "updateQuery = \"UPDATE KUNDENDATEN SET (ORT, STRASSE, POSTLEITZAHL, HAUSNUMMER) = ('{}', '{}', {}, '{}') WHERE KUNDENNUMMER = {};\".format(ort, strasse, postleitzahl, hausnummer, kundennummer)\n",
    "\n",
    "#execute the insert statement\n",
    "updateStmt = ibm_db.exec_immediate(conn, updateQuery)"
   ]
  }
 ],
 "metadata": {
  "kernelspec": {
   "display_name": "Python 3",
   "language": "python",
   "name": "python3"
  },
  "language_info": {
   "codemirror_mode": {
    "name": "ipython",
    "version": 3
   },
   "file_extension": ".py",
   "mimetype": "text/x-python",
   "name": "python",
   "nbconvert_exporter": "python",
   "pygments_lexer": "ipython3",
   "version": "3.8.3"
  }
 },
 "nbformat": 4,
 "nbformat_minor": 1
}
